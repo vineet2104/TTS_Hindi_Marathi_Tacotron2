{
 "cells": [
  {
   "cell_type": "markdown",
   "metadata": {},
   "source": [
    "Commonvoice is one of the largest collection of speech-text data openly available for research and building speech models. Refer to the link in the main readme file. All the audio files in Commonvoice are in mp3 format whereas we need wav format for training. \n",
    "\n",
    "This notebook helps you to convert these files using pydub library. We also need to convert the text data files into a particular format for tacotron 2 training. The format is as below - \n",
    "\n",
    "(file_location) | (hindi_text_transcript)\n",
    "\n",
    "Refer to the sample txt file in the repository for more clarity. You can modify the code accordingly based on your dataset. "
   ]
  },
  {
   "cell_type": "code",
   "execution_count": null,
   "metadata": {},
   "outputs": [],
   "source": [
    "from os import path\n",
    "from pydub import AudioSegment\n",
    "import os"
   ]
  },
  {
   "cell_type": "code",
   "execution_count": null,
   "metadata": {},
   "outputs": [],
   "source": [
    "data_dir = #path to folder which contains all the wav files\n",
    "list_of_files = os.listdir(data_dir)\n",
    "print(len(list_of_files))"
   ]
  },
  {
   "cell_type": "code",
   "execution_count": null,
   "metadata": {},
   "outputs": [],
   "source": [
    "save_dir = #path to folder where the wav files need to be stored\n",
    "\n",
    "for i,file in enumerate(list_of_files):\n",
    "    print(i)\n",
    "    dst = save_dir+\"\\\\\"+file[:-4]+\".wav\"\n",
    "    sound = AudioSegment.from_mp3(data_dir+\"\\\\\"+file)\n",
    "    sound.export(dst,format=\"wav\",bitrate=\"16k\")"
   ]
  },
  {
   "cell_type": "markdown",
   "metadata": {},
   "source": [
    "The code below helps you convert the text files into the required format. The code is self explanatory hence we do not go deep into this. "
   ]
  },
  {
   "cell_type": "code",
   "execution_count": null,
   "metadata": {},
   "outputs": [],
   "source": [
    "data_file = open(\"D:\\\\Hindi-CommonVoice\\\\hi\\\\hi_data.txt\",'w+',encoding='utf-8')"
   ]
  },
  {
   "cell_type": "code",
   "execution_count": null,
   "metadata": {},
   "outputs": [],
   "source": [
    "import csv\n",
    "tsv_file = open(\"D:\\\\Hindi-CommonVoice\\\\hi\\\\validated.tsv\",encoding='utf-8')\n",
    "read_tsv = csv.reader(tsv_file, delimiter=\"\\t\")"
   ]
  },
  {
   "cell_type": "code",
   "execution_count": null,
   "metadata": {},
   "outputs": [],
   "source": [
    "for i,row in enumerate(read_tsv):\n",
    "    if(i==0):\n",
    "        continue\n",
    "    file_add = save_dir+\"\\\\\"+row[1][:-4]+\".wav\"\n",
    "    data_file.write(file_add)\n",
    "    data_file.write(\"|\")\n",
    "    data_file.write(row[2])\n",
    "    data_file.write(\"\\n\")"
   ]
  },
  {
   "cell_type": "code",
   "execution_count": null,
   "metadata": {},
   "outputs": [],
   "source": [
    "tsv_file = open(\"D:\\\\Hindi-CommonVoice\\\\hi\\\\invalidated.tsv\",encoding='utf-8')\n",
    "read_tsv = csv.reader(tsv_file, delimiter=\"\\t\")"
   ]
  },
  {
   "cell_type": "code",
   "execution_count": null,
   "metadata": {},
   "outputs": [],
   "source": [
    "for j,row in enumerate(read_tsv):\n",
    "    if(i==0):\n",
    "        continue\n",
    "    file_add = save_dir+\"\\\\\"+row[1][:-4]+\".wav\"\n",
    "    data_file.write(file_add)\n",
    "    data_file.write(\"|\")\n",
    "    data_file.write(row[2])\n",
    "    data_file.write(\"\\n\")"
   ]
  },
  {
   "cell_type": "code",
   "execution_count": null,
   "metadata": {},
   "outputs": [],
   "source": [
    "tsv_file = open(\"D:\\\\Hindi-CommonVoice\\\\hi\\\\other.tsv\",encoding='utf-8')\n",
    "read_tsv = csv.reader(tsv_file, delimiter=\"\\t\")"
   ]
  },
  {
   "cell_type": "code",
   "execution_count": null,
   "metadata": {},
   "outputs": [],
   "source": [
    "for k,row in enumerate(read_tsv):\n",
    "    if(i==0):\n",
    "        continue\n",
    "    file_add = save_dir+\"\\\\\"+row[1][:-4]+\".wav\"\n",
    "    data_file.write(file_add)\n",
    "    data_file.write(\"|\")\n",
    "    data_file.write(row[2])\n",
    "    data_file.write(\"\\n\")"
   ]
  },
  {
   "cell_type": "code",
   "execution_count": null,
   "metadata": {},
   "outputs": [],
   "source": [
    "data_file.close()"
   ]
  }
 ],
 "metadata": {
  "kernelspec": {
   "display_name": "Python 3",
   "language": "python",
   "name": "python3"
  },
  "language_info": {
   "codemirror_mode": {
    "name": "ipython",
    "version": 3
   },
   "file_extension": ".py",
   "mimetype": "text/x-python",
   "name": "python",
   "nbconvert_exporter": "python",
   "pygments_lexer": "ipython3",
   "version": "3.6.12"
  }
 },
 "nbformat": 4,
 "nbformat_minor": 5
}
